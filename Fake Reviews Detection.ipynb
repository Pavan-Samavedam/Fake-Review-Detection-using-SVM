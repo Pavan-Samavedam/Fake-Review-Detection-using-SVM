{
 "cells": [
  {
   "cell_type": "code",
   "execution_count": null,
   "id": "16e5d6f0",
   "metadata": {
    "vscode": {
     "languageId": "plaintext"
    }
   },
   "outputs": [],
   "source": [
    "import numpy as np\n",
    "import pandas as pd\n",
    "import matplotlib.pyplot as plt\n",
    "%matplotlib inline\n",
    "import warnings, string\n",
    "warnings.filterwarnings('ignore')\n",
    "from sklearn.model_selection import train_test_split\n",
    "from sklearn.metrics import classification_report, confusion_matrix, accuracy_score\n",
    "import nltk\n",
    "from nltk.corpus import stopwords\n",
    "from sklearn.feature_extraction.text import CountVectorizer, TfidfTransformer\n",
    "from sklearn.svm import SVC\n",
    "\n",
    "# Load your preprocessed dataset\n",
    "df = pd.read_csv('Preprocessed Fake Reviews Detection Dataset.csv')\n",
    "df.head()\n",
    "df.drop('Unnamed: 0', axis=1, inplace=True)\n",
    "df.dropna(inplace=True)\n",
    "\n",
    "# Split the data into training and testing sets\n",
    "review_train, review_test, label_train, label_test = train_test_split(df['text_'], df['label'], test_size=0.35)\n",
    "\n",
    "# Create a pipeline with CountVectorizer, TfidfTransformer, and SVM classifier\n",
    "pipeline = Pipeline([\n",
    "    ('bow', CountVectorizer(analyzer=text_process)),\n",
    "    ('tfidf', TfidfTransformer()),\n",
    "    ('classifier', SVC())\n",
    "])\n",
    "\n",
    "# Fit the SVM model on the training data\n",
    "pipeline.fit(review_train, label_train)\n",
    "\n",
    "# Make predictions on the test data using SVM\n",
    "svc_pred = pipeline.predict(review_test)\n",
    "\n",
    "# Evaluate the SVM model\n",
    "print('Classification Report:', classification_report(label_test, svc_pred))\n",
    "print('Confusion Matrix:', confusion_matrix(label_test, svc_pred))\n",
    "print('Accuracy Score:', accuracy_score(label_test, svc_pred))\n",
    "print('Model Prediction Accuracy:', str(np.round(accuracy_score(label_test, svc_pred) * 100, 2) + '%')\n"
   ]
  }
 ],
 "metadata": {
  "kernelspec": {
   "display_name": "Python 3",
   "language": "python",
   "name": "python3"
  },
  "language_info": {
   "codemirror_mode": {
    "name": "ipython",
    "version": 3
   },
   "file_extension": ".py",
   "mimetype": "text/x-python",
   "name": "python",
   "nbconvert_exporter": "python",
   "pygments_lexer": "ipython3",
   "version": "3.8.10"
  },
  "vscode": {
   "interpreter": {
    "hash": "2a6f7bd957633b44a0395c9ff8ad95640b25fce2112797a80a0189d3930abbb0"
   }
  }
 },
 "nbformat": 4,
 "nbformat_minor": 5
}
